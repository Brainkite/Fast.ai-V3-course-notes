{
 "cells": [
  {
   "cell_type": "code",
   "execution_count": 2,
   "metadata": {
    "ExecuteTime": {
     "end_time": "2019-10-29T15:45:24.579786Z",
     "start_time": "2019-10-29T15:45:24.274451Z"
    }
   },
   "outputs": [],
   "source": [
    "%load_ext autoreload\n",
    "%autoreload 2\n",
    "\n",
    "%matplotlib inline"
   ]
  },
  {
   "cell_type": "code",
   "execution_count": 28,
   "metadata": {
    "ExecuteTime": {
     "end_time": "2019-10-30T10:15:07.511682Z",
     "start_time": "2019-10-30T10:15:06.999652Z"
    }
   },
   "outputs": [
    {
     "name": "stdout",
     "output_type": "stream",
     "text": [
      "Converted 01_matmul_perso.ipynb to exp/nb_01.py\r\n"
     ]
    }
   ],
   "source": [
    "! python notebook2script.py 01_matmul_perso.ipynb"
   ]
  },
  {
   "cell_type": "markdown",
   "metadata": {},
   "source": [
    "# Create test func"
   ]
  },
  {
   "cell_type": "code",
   "execution_count": 27,
   "metadata": {
    "ExecuteTime": {
     "end_time": "2019-10-30T10:14:58.320805Z",
     "start_time": "2019-10-30T10:14:58.313857Z"
    }
   },
   "outputs": [],
   "source": [
    "#export\n",
    "from exp.nb_00 import *\n",
    "import operator\n",
    "from torch import allclose\n",
    "\n",
    "def test(a,b,cmp, cname='None'):\n",
    "    if cname is None: cname=cmp.__name__\n",
    "    assert cmp(a,b), f\"{cname}:\\n{a}\\n{b}\"\n",
    "    \n",
    "    \n",
    "def test_eq(a,b): return test(a,b,operator.eq, \"==\")\n",
    "\n",
    "def near(a,b): return allclose(a,b, rtol=1e-3, atol=1e-5)\n",
    "\n",
    "def test_near(a,b): return test(a,b,near,'near')"
   ]
  },
  {
   "cell_type": "markdown",
   "metadata": {
    "ExecuteTime": {
     "end_time": "2019-10-29T15:57:50.438269Z",
     "start_time": "2019-10-29T15:57:50.364014Z"
    }
   },
   "source": [
    "# Get data"
   ]
  },
  {
   "cell_type": "code",
   "execution_count": 6,
   "metadata": {
    "ExecuteTime": {
     "end_time": "2019-10-30T10:09:20.882721Z",
     "start_time": "2019-10-30T10:09:20.099270Z"
    }
   },
   "outputs": [],
   "source": [
    "#export\n",
    "from pathlib import Path\n",
    "from IPython.core.debugger import set_trace\n",
    "from fastai import datasets\n",
    "import pickle, gzip, math, torch, matplotlib as mpl\n",
    "import matplotlib.pyplot as plt\n",
    "from torch import tensor\n",
    "\n",
    "MNIST_URL='http://deeplearning.net/data/mnist/mnist.pkl'"
   ]
  },
  {
   "cell_type": "code",
   "execution_count": 12,
   "metadata": {
    "ExecuteTime": {
     "end_time": "2019-10-29T17:22:40.149961Z",
     "start_time": "2019-10-29T17:22:15.453283Z"
    }
   },
   "outputs": [
    {
     "data": {
      "text/plain": [
       "PosixPath('/root/.fastai/data/mnist.pkl.gz')"
      ]
     },
     "execution_count": 12,
     "metadata": {},
     "output_type": "execute_result"
    }
   ],
   "source": [
    "path = datasets.download_data(MNIST_URL, ext='.gz')\n",
    "path"
   ]
  },
  {
   "cell_type": "code",
   "execution_count": 13,
   "metadata": {
    "ExecuteTime": {
     "end_time": "2019-10-29T17:26:13.501208Z",
     "start_time": "2019-10-29T17:26:12.312174Z"
    }
   },
   "outputs": [],
   "source": [
    "with gzip.open(path, 'rb') as f:\n",
    "    #((x_train, y_train), (x_valid, y_valid), _) = pickle.load(f, encoding='latin-1')\n",
    "    p = pickle.load(f, encoding='latin-1')"
   ]
  },
  {
   "cell_type": "code",
   "execution_count": 28,
   "metadata": {
    "ExecuteTime": {
     "end_time": "2019-10-29T17:29:42.121702Z",
     "start_time": "2019-10-29T17:29:42.095405Z"
    }
   },
   "outputs": [],
   "source": [
    "((x_train, y_train), (x_valid, y_valid), _) = p"
   ]
  },
  {
   "cell_type": "code",
   "execution_count": 30,
   "metadata": {
    "ExecuteTime": {
     "end_time": "2019-10-29T17:30:57.431483Z",
     "start_time": "2019-10-29T17:30:57.144201Z"
    }
   },
   "outputs": [],
   "source": [
    "x_train, y_train, x_valid, y_valid = map(tensor, (x_train, y_train, x_valid, y_valid))"
   ]
  },
  {
   "cell_type": "code",
   "execution_count": 31,
   "metadata": {
    "ExecuteTime": {
     "end_time": "2019-10-29T17:31:14.037203Z",
     "start_time": "2019-10-29T17:31:14.000448Z"
    }
   },
   "outputs": [],
   "source": [
    "nr, nc = x_train.shape"
   ]
  },
  {
   "cell_type": "code",
   "execution_count": 32,
   "metadata": {
    "ExecuteTime": {
     "end_time": "2019-10-29T17:31:53.440317Z",
     "start_time": "2019-10-29T17:31:53.384329Z"
    }
   },
   "outputs": [
    {
     "data": {
      "text/plain": [
       "(torch.Size([50000, 784]),\n",
       " torch.Size([50000]),\n",
       " torch.Size([10000, 784]),\n",
       " torch.Size([10000]))"
      ]
     },
     "execution_count": 32,
     "metadata": {},
     "output_type": "execute_result"
    }
   ],
   "source": [
    "x_train.shape, y_train.shape, x_valid.shape, y_valid.shape"
   ]
  },
  {
   "cell_type": "code",
   "execution_count": 35,
   "metadata": {
    "ExecuteTime": {
     "end_time": "2019-10-29T17:33:07.338113Z",
     "start_time": "2019-10-29T17:33:07.239945Z"
    }
   },
   "outputs": [],
   "source": [
    "assert nr == y_train.shape[0] == 50000"
   ]
  },
  {
   "cell_type": "code",
   "execution_count": 37,
   "metadata": {
    "ExecuteTime": {
     "end_time": "2019-10-29T17:34:05.238113Z",
     "start_time": "2019-10-29T17:34:05.202153Z"
    }
   },
   "outputs": [],
   "source": [
    "test_eq(nc, 28*28)"
   ]
  },
  {
   "cell_type": "code",
   "execution_count": 38,
   "metadata": {
    "ExecuteTime": {
     "end_time": "2019-10-29T17:34:26.738481Z",
     "start_time": "2019-10-29T17:34:26.668371Z"
    }
   },
   "outputs": [],
   "source": [
    "img = x_train[1000]"
   ]
  },
  {
   "cell_type": "code",
   "execution_count": 39,
   "metadata": {
    "ExecuteTime": {
     "end_time": "2019-10-29T17:34:54.738039Z",
     "start_time": "2019-10-29T17:34:54.714090Z"
    }
   },
   "outputs": [],
   "source": [
    "mpl.rcParams['image.cmap']='gray'"
   ]
  },
  {
   "cell_type": "code",
   "execution_count": 40,
   "metadata": {
    "ExecuteTime": {
     "end_time": "2019-10-29T17:35:21.343646Z",
     "start_time": "2019-10-29T17:35:21.300699Z"
    }
   },
   "outputs": [
    {
     "data": {
      "text/plain": [
       "torch.Size([784])"
      ]
     },
     "execution_count": 40,
     "metadata": {},
     "output_type": "execute_result"
    }
   ],
   "source": [
    "img.shape"
   ]
  },
  {
   "cell_type": "code",
   "execution_count": 42,
   "metadata": {
    "ExecuteTime": {
     "end_time": "2019-10-29T17:35:53.141056Z",
     "start_time": "2019-10-29T17:35:53.091549Z"
    }
   },
   "outputs": [
    {
     "data": {
      "text/plain": [
       "<function Tensor.type>"
      ]
     },
     "execution_count": 42,
     "metadata": {},
     "output_type": "execute_result"
    }
   ],
   "source": [
    "img.view(28,28).type"
   ]
  },
  {
   "cell_type": "code",
   "execution_count": 44,
   "metadata": {
    "ExecuteTime": {
     "end_time": "2019-10-29T17:36:27.165456Z",
     "start_time": "2019-10-29T17:36:26.873743Z"
    }
   },
   "outputs": [
    {
     "data": {
      "text/plain": [
       "<matplotlib.image.AxesImage at 0x7f0929e7de10>"
      ]
     },
     "execution_count": 44,
     "metadata": {},
     "output_type": "execute_result"
    },
    {
     "data": {
      "image/png": "[encoded data removed]",
      "text/plain": [
       "<Figure size 432x288 with 1 Axes>"
      ]
     },
     "metadata": {
      "needs_background": "light"
     },
     "output_type": "display_data"
    }
   ],
   "source": [
    "plt.imshow(img.view(28,28))"
   ]
  },
  {
   "cell_type": "markdown",
   "metadata": {},
   "source": [
    "# MatMul"
   ]
  },
  {
   "cell_type": "code",
   "execution_count": 10,
   "metadata": {
    "ExecuteTime": {
     "end_time": "2019-10-30T10:09:59.951237Z",
     "start_time": "2019-10-30T10:09:59.946962Z"
    }
   },
   "outputs": [],
   "source": [
    "w = torch.randn(784, 10)\n",
    "b = torch.zeros(10)"
   ]
  },
  {
   "cell_type": "code",
   "execution_count": 9,
   "metadata": {
    "ExecuteTime": {
     "end_time": "2019-10-30T10:09:55.509219Z",
     "start_time": "2019-10-30T10:09:55.357337Z"
    }
   },
   "outputs": [
    {
     "ename": "NameError",
     "evalue": "name 'x_train' is not defined",
     "output_type": "error",
     "traceback": [
      "\u001b[0;31m---------------------------------------------------------------------------\u001b[0m",
      "\u001b[0;31mNameError\u001b[0m                                 Traceback (most recent call last)",
      "\u001b[0;32m<ipython-input-9-5965b75a13cf>\u001b[0m in \u001b[0;36m<module>\u001b[0;34m\u001b[0m\n\u001b[0;32m----> 1\u001b[0;31m \u001b[0mm1\u001b[0m \u001b[0;34m=\u001b[0m \u001b[0mx_train\u001b[0m\u001b[0;34m[\u001b[0m\u001b[0;34m:\u001b[0m\u001b[0;36m5\u001b[0m\u001b[0;34m]\u001b[0m\u001b[0;34m\u001b[0m\u001b[0;34m\u001b[0m\u001b[0m\n\u001b[0m\u001b[1;32m      2\u001b[0m \u001b[0mm1\u001b[0m\u001b[0;34m.\u001b[0m\u001b[0mshape\u001b[0m\u001b[0;34m\u001b[0m\u001b[0;34m\u001b[0m\u001b[0m\n",
      "\u001b[0;31mNameError\u001b[0m: name 'x_train' is not defined"
     ]
    }
   ],
   "source": [
    "m1 = x_train[:5]\n",
    "m1.shape"
   ]
  },
  {
   "cell_type": "markdown",
   "metadata": {},
   "source": [
    "## 3 loops"
   ]
  },
  {
   "cell_type": "code",
   "execution_count": 49,
   "metadata": {
    "ExecuteTime": {
     "end_time": "2019-10-29T17:43:50.145069Z",
     "start_time": "2019-10-29T17:43:50.114569Z"
    }
   },
   "outputs": [],
   "source": [
    "def matmul1(a,b):\n",
    "    ar, ac = a.shape\n",
    "    br, bc = b.shape\n",
    "    assert ac==br\n",
    "    \n",
    "    res = torch.zeros(ar, bc)\n",
    "    \n",
    "    for i in range(ar):\n",
    "        for j in range(bc):\n",
    "            for k in range(ac):\n",
    "                res[i,j] += a[i,k] * b[k,j]\n",
    "    return res"
   ]
  },
  {
   "cell_type": "code",
   "execution_count": 50,
   "metadata": {
    "ExecuteTime": {
     "end_time": "2019-10-29T17:43:51.517411Z",
     "start_time": "2019-10-29T17:43:50.707955Z"
    }
   },
   "outputs": [
    {
     "data": {
      "text/plain": [
       "tensor([[  6.1764,  -8.8623,   7.3116,  -5.6778,  -4.4061,   9.3887,  -5.7118,\n",
       "          -7.1170,  10.8090,  -2.7225],\n",
       "        [  3.5490,   5.6103,   6.9437,  -3.8709, -10.3202,  12.1097, -10.7375,\n",
       "         -12.9388,  -4.0581,   5.8031],\n",
       "        [-10.6613,  10.3225,   1.8483,  -3.5724,   5.0247,  -6.1577,  -8.1647,\n",
       "          -2.0899,  -2.4536,  -2.0688],\n",
       "        [ 18.3916,   4.6564,  14.6999,  -3.9459,  -4.0783,  -4.8844,   9.6662,\n",
       "           1.4866,   5.3147,  -8.9346],\n",
       "        [-16.5931,   8.3669,   2.2423,  -4.6848,   1.3967,  15.4392,  -4.1707,\n",
       "          -3.3135,   6.0793,   3.7698]])"
      ]
     },
     "execution_count": 50,
     "metadata": {},
     "output_type": "execute_result"
    }
   ],
   "source": [
    "matmul1(m1,w)"
   ]
  },
  {
   "cell_type": "code",
   "execution_count": 52,
   "metadata": {
    "ExecuteTime": {
     "end_time": "2019-10-29T17:51:11.269870Z",
     "start_time": "2019-10-29T17:50:14.915306Z"
    }
   },
   "outputs": [
    {
     "name": "stdout",
     "output_type": "stream",
     "text": [
      "805 ms ± 33.4 ms per loop (mean ± std. dev. of 7 runs, 10 loops each)\n"
     ]
    }
   ],
   "source": [
    "%timeit -n 10 _=matmul1(m1, w)"
   ]
  },
  {
   "cell_type": "markdown",
   "metadata": {},
   "source": [
    "## 2 loops"
   ]
  },
  {
   "cell_type": "code",
   "execution_count": 56,
   "metadata": {
    "ExecuteTime": {
     "end_time": "2019-10-29T17:51:52.958850Z",
     "start_time": "2019-10-29T17:51:52.935361Z"
    }
   },
   "outputs": [],
   "source": [
    "def matmul2(a,b):\n",
    "    ar, ac = a.shape\n",
    "    br, bc = b.shape\n",
    "    assert ac==br\n",
    "    \n",
    "    res = torch.zeros(ar, bc)\n",
    "    \n",
    "    for i in range(ar):\n",
    "        for j in range(bc):\n",
    "            res[i,j] = (a[i] * b[:,j]).sum()\n",
    "    return res"
   ]
  },
  {
   "cell_type": "code",
   "execution_count": 57,
   "metadata": {
    "ExecuteTime": {
     "end_time": "2019-10-29T17:51:53.844490Z",
     "start_time": "2019-10-29T17:51:53.775036Z"
    }
   },
   "outputs": [
    {
     "data": {
      "text/plain": [
       "tensor([[  6.1764,  -8.8623,   7.3115,  -5.6778,  -4.4061,   9.3887,  -5.7118,\n",
       "          -7.1170,  10.8090,  -2.7225],\n",
       "        [  3.5490,   5.6103,   6.9437,  -3.8709, -10.3202,  12.1097, -10.7375,\n",
       "         -12.9388,  -4.0581,   5.8031],\n",
       "        [-10.6613,  10.3225,   1.8483,  -3.5724,   5.0247,  -6.1577,  -8.1647,\n",
       "          -2.0899,  -2.4536,  -2.0688],\n",
       "        [ 18.3916,   4.6564,  14.6999,  -3.9459,  -4.0783,  -4.8844,   9.6662,\n",
       "           1.4866,   5.3147,  -8.9346],\n",
       "        [-16.5931,   8.3669,   2.2423,  -4.6848,   1.3967,  15.4392,  -4.1707,\n",
       "          -3.3135,   6.0793,   3.7698]])"
      ]
     },
     "execution_count": 57,
     "metadata": {},
     "output_type": "execute_result"
    }
   ],
   "source": [
    "matmul2(m1,w)"
   ]
  },
  {
   "cell_type": "code",
   "execution_count": 60,
   "metadata": {
    "ExecuteTime": {
     "end_time": "2019-10-29T17:52:11.111022Z",
     "start_time": "2019-10-29T17:52:10.992150Z"
    }
   },
   "outputs": [
    {
     "name": "stdout",
     "output_type": "stream",
     "text": [
      "1.33 ms ± 807 µs per loop (mean ± std. dev. of 7 runs, 10 loops each)\n"
     ]
    }
   ],
   "source": [
    "%timeit -n 10 _=matmul2(m1,w)"
   ]
  },
  {
   "cell_type": "markdown",
   "metadata": {},
   "source": [
    "## 1 loop"
   ]
  },
  {
   "cell_type": "code",
   "execution_count": 74,
   "metadata": {
    "ExecuteTime": {
     "end_time": "2019-10-29T17:59:16.764267Z",
     "start_time": "2019-10-29T17:59:16.730840Z"
    }
   },
   "outputs": [
    {
     "data": {
      "text/plain": [
       "torch.Size([784, 1])"
      ]
     },
     "execution_count": 74,
     "metadata": {},
     "output_type": "execute_result"
    }
   ],
   "source": [
    "m1[0][:, None].shape"
   ]
  },
  {
   "cell_type": "code",
   "execution_count": 12,
   "metadata": {
    "ExecuteTime": {
     "end_time": "2019-10-30T10:10:08.603484Z",
     "start_time": "2019-10-30T10:10:08.599034Z"
    }
   },
   "outputs": [],
   "source": [
    "def matmul3(a,b):\n",
    "    ar, ac = a.shape\n",
    "    br, bc = b.shape\n",
    "    assert ac==br\n",
    "    \n",
    "    res = torch.zeros(ar, bc)\n",
    "    \n",
    "    for i in range(ar):\n",
    "        res[i] = (a[i][:,None] * b).sum(dim=0)\n",
    "    \n",
    "    return res\n",
    "    "
   ]
  },
  {
   "cell_type": "code",
   "execution_count": 71,
   "metadata": {
    "ExecuteTime": {
     "end_time": "2019-10-29T17:58:35.157983Z",
     "start_time": "2019-10-29T17:58:35.060176Z"
    }
   },
   "outputs": [
    {
     "data": {
      "text/plain": [
       "tensor([[  6.1764,  -8.8623,   7.3116,  -5.6778,  -4.4061,   9.3887,  -5.7118,\n",
       "          -7.1170,  10.8090,  -2.7225],\n",
       "        [  3.5490,   5.6103,   6.9437,  -3.8709, -10.3202,  12.1097, -10.7375,\n",
       "         -12.9388,  -4.0581,   5.8031],\n",
       "        [-10.6613,  10.3225,   1.8483,  -3.5724,   5.0247,  -6.1577,  -8.1647,\n",
       "          -2.0899,  -2.4536,  -2.0688],\n",
       "        [ 18.3916,   4.6564,  14.6999,  -3.9459,  -4.0783,  -4.8844,   9.6662,\n",
       "           1.4866,   5.3147,  -8.9346],\n",
       "        [-16.5931,   8.3669,   2.2423,  -4.6848,   1.3967,  15.4392,  -4.1707,\n",
       "          -3.3135,   6.0793,   3.7698]])"
      ]
     },
     "execution_count": 71,
     "metadata": {},
     "output_type": "execute_result"
    }
   ],
   "source": [
    "matmul3(m1,w)"
   ]
  },
  {
   "cell_type": "code",
   "execution_count": 72,
   "metadata": {
    "ExecuteTime": {
     "end_time": "2019-10-29T17:59:04.879892Z",
     "start_time": "2019-10-29T17:59:04.828086Z"
    }
   },
   "outputs": [
    {
     "name": "stdout",
     "output_type": "stream",
     "text": [
      "297 µs ± 57.4 µs per loop (mean ± std. dev. of 7 runs, 10 loops each)\n"
     ]
    }
   ],
   "source": [
    "%timeit -n 10 _=matmul3(m1,w)"
   ]
  },
  {
   "cell_type": "markdown",
   "metadata": {},
   "source": [
    "## Einsum"
   ]
  },
  {
   "cell_type": "code",
   "execution_count": 78,
   "metadata": {
    "ExecuteTime": {
     "end_time": "2019-10-29T18:01:05.559299Z",
     "start_time": "2019-10-29T18:01:05.532221Z"
    }
   },
   "outputs": [],
   "source": [
    "def matmul4(a,b):\n",
    "    return torch.einsum('ik,kj->ij', a,b)"
   ]
  },
  {
   "cell_type": "code",
   "execution_count": 79,
   "metadata": {
    "ExecuteTime": {
     "end_time": "2019-10-29T18:01:06.240930Z",
     "start_time": "2019-10-29T18:01:06.150405Z"
    }
   },
   "outputs": [
    {
     "data": {
      "text/plain": [
       "tensor([[  6.1764,  -8.8623,   7.3115,  -5.6778,  -4.4061,   9.3887,  -5.7118,\n",
       "          -7.1170,  10.8090,  -2.7225],\n",
       "        [  3.5490,   5.6103,   6.9437,  -3.8709, -10.3202,  12.1097, -10.7375,\n",
       "         -12.9388,  -4.0581,   5.8031],\n",
       "        [-10.6613,  10.3225,   1.8484,  -3.5724,   5.0247,  -6.1577,  -8.1647,\n",
       "          -2.0899,  -2.4536,  -2.0688],\n",
       "        [ 18.3916,   4.6564,  14.6999,  -3.9459,  -4.0783,  -4.8844,   9.6662,\n",
       "           1.4866,   5.3147,  -8.9346],\n",
       "        [-16.5931,   8.3669,   2.2423,  -4.6848,   1.3967,  15.4392,  -4.1707,\n",
       "          -3.3135,   6.0793,   3.7698]])"
      ]
     },
     "execution_count": 79,
     "metadata": {},
     "output_type": "execute_result"
    }
   ],
   "source": [
    "matmul4(m1,w)"
   ]
  },
  {
   "cell_type": "code",
   "execution_count": 80,
   "metadata": {
    "ExecuteTime": {
     "end_time": "2019-10-29T18:01:07.848588Z",
     "start_time": "2019-10-29T18:01:07.818892Z"
    }
   },
   "outputs": [
    {
     "name": "stdout",
     "output_type": "stream",
     "text": [
      "52.6 µs ± 9.16 µs per loop (mean ± std. dev. of 7 runs, 10 loops each)\n"
     ]
    }
   ],
   "source": [
    "%timeit -n 10 _=matmul4(m1,w)"
   ]
  },
  {
   "cell_type": "markdown",
   "metadata": {},
   "source": [
    "## Torch matmul"
   ]
  },
  {
   "cell_type": "code",
   "execution_count": 11,
   "metadata": {
    "ExecuteTime": {
     "end_time": "2019-10-30T10:10:03.707425Z",
     "start_time": "2019-10-30T10:10:03.703246Z"
    }
   },
   "outputs": [],
   "source": [
    "def matmul5(a,b): return a@b"
   ]
  },
  {
   "cell_type": "code",
   "execution_count": 82,
   "metadata": {
    "ExecuteTime": {
     "end_time": "2019-10-29T18:01:59.940704Z",
     "start_time": "2019-10-29T18:01:59.882834Z"
    }
   },
   "outputs": [
    {
     "data": {
      "text/plain": [
       "tensor([[  6.1764,  -8.8623,   7.3115,  -5.6778,  -4.4061,   9.3887,  -5.7118,\n",
       "          -7.1170,  10.8090,  -2.7225],\n",
       "        [  3.5490,   5.6103,   6.9437,  -3.8709, -10.3202,  12.1097, -10.7375,\n",
       "         -12.9388,  -4.0581,   5.8031],\n",
       "        [-10.6613,  10.3225,   1.8484,  -3.5724,   5.0247,  -6.1577,  -8.1647,\n",
       "          -2.0899,  -2.4536,  -2.0688],\n",
       "        [ 18.3916,   4.6564,  14.6999,  -3.9459,  -4.0783,  -4.8844,   9.6662,\n",
       "           1.4866,   5.3147,  -8.9346],\n",
       "        [-16.5931,   8.3669,   2.2423,  -4.6848,   1.3967,  15.4392,  -4.1707,\n",
       "          -3.3135,   6.0793,   3.7698]])"
      ]
     },
     "execution_count": 82,
     "metadata": {},
     "output_type": "execute_result"
    }
   ],
   "source": [
    "matmul5(m1,w)"
   ]
  },
  {
   "cell_type": "code",
   "execution_count": 83,
   "metadata": {
    "ExecuteTime": {
     "end_time": "2019-10-29T18:02:15.156017Z",
     "start_time": "2019-10-29T18:02:15.128664Z"
    }
   },
   "outputs": [
    {
     "name": "stdout",
     "output_type": "stream",
     "text": [
      "11.6 µs ± 5.09 µs per loop (mean ± std. dev. of 7 runs, 10 loops each)\n"
     ]
    }
   ],
   "source": [
    "%timeit -n 10 _=matmul5(m1,w)"
   ]
  },
  {
   "cell_type": "markdown",
   "metadata": {},
   "source": [
    "# Export scripts"
   ]
  },
  {
   "cell_type": "code",
   "execution_count": null,
   "metadata": {},
   "outputs": [],
   "source": []
  }
 ],
 "metadata": {
  "kernelspec": {
   "display_name": "Python 3",
   "language": "python",
   "name": "python3"
  },
  "language_info": {
   "codemirror_mode": {
    "name": "ipython",
    "version": 3
   },
   "file_extension": ".py",
   "mimetype": "text/x-python",
   "name": "python",
   "nbconvert_exporter": "python",
   "pygments_lexer": "ipython3",
   "version": "3.6.7"
  },
  "latex_envs": {
   "LaTeX_envs_menu_present": true,
   "autoclose": true,
   "autocomplete": true,
   "bibliofile": "biblio.bib",
   "cite_by": "apalike",
   "current_citInitial": 1,
   "eqLabelWithNumbers": true,
   "eqNumInitial": 1,
   "hotkeys": {
    "equation": "Ctrl-E",
    "itemize": "Ctrl-I"
   },
   "labels_anchors": false,
   "latex_user_defs": false,
   "report_style_numbering": false,
   "user_envs_cfg": false
  },
  "toc": {
   "base_numbering": 1,
   "nav_menu": {},
   "number_sections": true,
   "sideBar": true,
   "skip_h1_title": false,
   "title_cell": "Table of Contents",
   "title_sidebar": "Contents",
   "toc_cell": false,
   "toc_position": {},
   "toc_section_display": true,
   "toc_window_display": false
  },
  "varInspector": {
   "cols": {
    "lenName": 16,
    "lenType": 16,
    "lenVar": 40
   },
   "kernels_config": {
    "python": {
     "delete_cmd_postfix": "",
     "delete_cmd_prefix": "del ",
     "library": "var_list.py",
     "varRefreshCmd": "print(var_dic_list())"
    },
    "r": {
     "delete_cmd_postfix": ") ",
     "delete_cmd_prefix": "rm(",
     "library": "var_list.r",
     "varRefreshCmd": "cat(var_dic_list()) "
    }
   },
   "types_to_exclude": [
    "module",
    "function",
    "builtin_function_or_method",
    "instance",
    "_Feature"
   ],
   "window_display": false
  }
 },
 "nbformat": 4,
 "nbformat_minor": 2
}
