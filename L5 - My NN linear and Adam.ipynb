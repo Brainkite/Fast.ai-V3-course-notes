{
 "cells": [
  {
   "cell_type": "markdown",
   "metadata": {},
   "source": [
    "# MNIST"
   ]
  },
  {
   "cell_type": "markdown",
   "metadata": {},
   "source": [
    "## Fast_launch(imports, DataBunch, variables)"
   ]
  },
  {
   "cell_type": "code",
   "execution_count": 11,
   "metadata": {},
   "outputs": [],
   "source": [
    "from fastai.basics import *\n",
    "%matplotlib inline\n",
    "data_dir = Path('data/mnist_perso')\n",
    "with gzip.open(data_dir/'mnist.pkl.gz', 'rb') as f:\n",
    "    ((x_train, y_train), (x_valid, y_valid), _) = pickle.load(f, encoding='latin-1')\n",
    "x_train, y_train, x_valid, y_valid = map(torch.tensor, (x_train, y_train, x_valid, y_valid))\n",
    "n,c = x_train.shape\n",
    "bs=64\n",
    "train_ds = TensorDataset(x_train, y_train)\n",
    "valid_ds = TensorDataset(x_valid, y_valid)\n",
    "data = DataBunch.create(train_ds, valid_ds, bs=bs)\n",
    "loss_func = nn.CrossEntropyLoss()\n",
    "lr = 1e-3"
   ]
  },
  {
   "cell_type": "markdown",
   "metadata": {},
   "source": [
    "## Rewrite nn.Linear func"
   ]
  },
  {
   "cell_type": "code",
   "execution_count": 12,
   "metadata": {},
   "outputs": [],
   "source": [
    "from torch.nn.parameter import Parameter"
   ]
  },
  {
   "cell_type": "code",
   "execution_count": 15,
   "metadata": {},
   "outputs": [],
   "source": [
    "class NNlinear(nn.Module):\n",
    "    \"\"\"\n",
    "    Créate layer of weights and bias\n",
    "    \"\"\"\n",
    "    def __init__(self, in_size, out_size, bias:bool=True):\n",
    "        super().__init__()\n",
    "        self.in_size = in_size\n",
    "        self.out_size = out_size\n",
    "        self.has_bias = bias\n",
    "        \n",
    "        self.weights = Parameter(torch.rand((out_size, in_size), requires_grad=True))\n",
    "        \n",
    "        if self.has_bias:\n",
    "            self.bias = Parameter(torch.ones((out_size), requires_grad=True))\n",
    "    \n",
    "    def forward(self, xb):\n",
    "        if self.has_bias:\n",
    "            return F.linear(xb, self.weights, self.bias)\n",
    "        else:\n",
    "            return F.linear(xb, self.weights)"
   ]
  },
  {
   "cell_type": "code",
   "execution_count": 16,
   "metadata": {},
   "outputs": [],
   "source": [
    "class Mnist_Logistic2(nn.Module):\n",
    "    \"\"\"\n",
    "    Créates neural network class with a single linear layer\n",
    "    \"\"\"\n",
    "    def __init__(self):\n",
    "        super().__init__() #load nn.Module init\n",
    "        self.lin = NNlinear(784, 10, bias=True)\n",
    "        \n",
    "    def forward(self, xb):\n",
    "        return self.lin(xb)"
   ]
  },
  {
   "cell_type": "markdown",
   "metadata": {},
   "source": [
    "## Rewrite Adam optim"
   ]
  },
  {
   "cell_type": "code",
   "execution_count": 17,
   "metadata": {},
   "outputs": [],
   "source": [
    "class Adam():\n",
    "    \n",
    "    '''\n",
    "    Creates an object that keeps track of the previous update vectors with dict \"old\"\n",
    "    and process back-propagation with \"step\" func\n",
    "    \n",
    "    mom : momentum factor (same for u and v) \n",
    "    lr: learnning rate\n",
    "    old: dict of previous updates for each parameters\n",
    "    \n",
    "    '''\n",
    "    \n",
    "    def __init__(self, mom, lr):\n",
    "        \n",
    "        self.mom = mom\n",
    "        self.lr = lr\n",
    "        \n",
    "        self.old = dict()\n",
    "        for p in model.parameters():\n",
    "            self.old[p] = 2*[torch.zeros(0, device='cuda:0')]\n",
    "    \n",
    "    def step(self):\n",
    "        with torch.no_grad():\n",
    "            for p in model.parameters():\n",
    "                if torch.equal(self.old[p][0], torch.zeros(0,device='cuda:0')):\n",
    "                    # Regulad SGD\n",
    "                    u = p.grad\n",
    "                    v = torch.ones(p.shape, device='cuda:0')\n",
    "                else:\n",
    "                    # Adam\n",
    "                    u = p.grad * (1-self.mom) + self.old[p][0] * self.mom\n",
    "                    v = p.grad**2 * (1-self.mom) + self.old[p][1] * self.mom\n",
    "                    \n",
    "                self.old[p][0] = u\n",
    "                self.old[p][1] = v\n",
    "                \n",
    "                p.sub_(self.lr * u * v**(-.5))\n",
    "                p.grad.zero_()\n",
    "                \n",
    "                "
   ]
  },
  {
   "cell_type": "code",
   "execution_count": 23,
   "metadata": {},
   "outputs": [],
   "source": [
    "def update(x,y, optim):\n",
    "    y_hat = model(x)\n",
    "    \n",
    "    wd = 1e-5\n",
    "    w2 = 0.\n",
    "    for p in model.parameters():\n",
    "        w2 += (p**2).sum()\n",
    "    \n",
    "    loss = loss_func(y_hat, y) + wd*w2\n",
    "    loss.backward()\n",
    "    \n",
    "    optim.step()\n",
    "    \n",
    "    return loss.item()\n",
    "    "
   ]
  },
  {
   "cell_type": "code",
   "execution_count": 25,
   "metadata": {},
   "outputs": [
    {
     "data": {
      "text/plain": [
       "[<matplotlib.lines.Line2D at 0x7fd4d09cd780>]"
      ]
     },
     "execution_count": 25,
     "metadata": {},
     "output_type": "execute_result"
    },
    {
     "data": {
      "image/png": "[encoded data removed]",
      "text/plain": [
       "<Figure size 432x288 with 1 Axes>"
      ]
     },
     "metadata": {
      "needs_background": "light"
     },
     "output_type": "display_data"
    }
   ],
   "source": [
    "model = Mnist_Logistic2().cuda()\n",
    "\n",
    "adam_optim = Adam(.9, 1e-2)\n",
    "\n",
    "losses = [ update(x,y,adam_optim) for x,y in data.train_dl ]\n",
    "\n",
    "plt.plot(losses)\n"
   ]
  }
 ],
 "metadata": {
  "kernelspec": {
   "display_name": "Python 3",
   "language": "python",
   "name": "python3"
  },
  "language_info": {
   "codemirror_mode": {
    "name": "ipython",
    "version": 3
   },
   "file_extension": ".py",
   "mimetype": "text/x-python",
   "name": "python",
   "nbconvert_exporter": "python",
   "pygments_lexer": "ipython3",
   "version": "3.7.3"
  },
  "toc": {
   "base_numbering": 1,
   "nav_menu": {},
   "number_sections": true,
   "sideBar": true,
   "skip_h1_title": false,
   "title_cell": "Table of Contents",
   "title_sidebar": "Contents",
   "toc_cell": false,
   "toc_position": {},
   "toc_section_display": true,
   "toc_window_display": false
  },
  "varInspector": {
   "cols": {
    "lenName": 16,
    "lenType": 16,
    "lenVar": 40
   },
   "kernels_config": {
    "python": {
     "delete_cmd_postfix": "",
     "delete_cmd_prefix": "del ",
     "library": "var_list.py",
     "varRefreshCmd": "print(var_dic_list())"
    },
    "r": {
     "delete_cmd_postfix": ") ",
     "delete_cmd_prefix": "rm(",
     "library": "var_list.r",
     "varRefreshCmd": "cat(var_dic_list()) "
    }
   },
   "types_to_exclude": [
    "module",
    "function",
    "builtin_function_or_method",
    "instance",
    "_Feature"
   ],
   "window_display": false
  }
 },
 "nbformat": 4,
 "nbformat_minor": 1
}
