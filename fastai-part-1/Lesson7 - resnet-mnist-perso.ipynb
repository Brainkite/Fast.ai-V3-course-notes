{
 "cells": [
  {
   "cell_type": "code",
   "execution_count": 1,
   "metadata": {
    "ExecuteTime": {
     "end_time": "2019-10-01T16:42:18.528133Z",
     "start_time": "2019-10-01T16:42:18.482264Z"
    }
   },
   "outputs": [],
   "source": [
    "%reload_ext autoreload\n",
    "%autoreload 2\n",
    "%matplotlib inline"
   ]
  },
  {
   "cell_type": "code",
   "execution_count": 2,
   "metadata": {
    "ExecuteTime": {
     "end_time": "2019-10-01T16:42:46.062082Z",
     "start_time": "2019-10-01T16:42:31.315448Z"
    }
   },
   "outputs": [],
   "source": [
    "from fastai.vision import *"
   ]
  },
  {
   "cell_type": "markdown",
   "metadata": {},
   "source": [
    "# MNIST CNN"
   ]
  },
  {
   "cell_type": "markdown",
   "metadata": {
    "heading_collapsed": true
   },
   "source": [
    "## Data import"
   ]
  },
  {
   "cell_type": "code",
   "execution_count": 3,
   "metadata": {
    "ExecuteTime": {
     "end_time": "2019-10-01T16:43:30.435795Z",
     "start_time": "2019-10-01T16:43:17.199401Z"
    },
    "hidden": true
   },
   "outputs": [
    {
     "data": {
      "text/plain": [
       "PosixPath('/home/jupyter/.fastai/data/mnist_png')"
      ]
     },
     "execution_count": 3,
     "metadata": {},
     "output_type": "execute_result"
    }
   ],
   "source": [
    "#path = untar_data(URLs.MNIST); path"
   ]
  },
  {
   "cell_type": "code",
   "execution_count": 7,
   "metadata": {
    "ExecuteTime": {
     "end_time": "2019-10-01T16:44:22.144256Z",
     "start_time": "2019-10-01T16:44:22.119136Z"
    },
    "hidden": true
   },
   "outputs": [],
   "source": [
    "path = Path('/home/jupyter/.fastai/data/mnist_png')"
   ]
  },
  {
   "cell_type": "code",
   "execution_count": 8,
   "metadata": {
    "ExecuteTime": {
     "end_time": "2019-10-01T16:44:29.028201Z",
     "start_time": "2019-10-01T16:44:29.003883Z"
    },
    "hidden": true
   },
   "outputs": [
    {
     "data": {
      "text/plain": [
       "[PosixPath('/home/jupyter/.fastai/data/mnist_png/testing'),\n",
       " PosixPath('/home/jupyter/.fastai/data/mnist_png/training')]"
      ]
     },
     "execution_count": 8,
     "metadata": {},
     "output_type": "execute_result"
    }
   ],
   "source": [
    "path.ls()"
   ]
  },
  {
   "cell_type": "code",
   "execution_count": 10,
   "metadata": {
    "ExecuteTime": {
     "end_time": "2019-10-01T16:46:05.746015Z",
     "start_time": "2019-10-01T16:46:04.977600Z"
    },
    "hidden": true
   },
   "outputs": [],
   "source": [
    "il = ImageList.from_folder(path, convert_mode='L')"
   ]
  },
  {
   "cell_type": "code",
   "execution_count": 12,
   "metadata": {
    "ExecuteTime": {
     "end_time": "2019-10-01T16:46:27.535687Z",
     "start_time": "2019-10-01T16:46:27.513747Z"
    },
    "hidden": true
   },
   "outputs": [],
   "source": [
    "defaults.cmap = 'binary'"
   ]
  },
  {
   "cell_type": "code",
   "execution_count": 13,
   "metadata": {
    "ExecuteTime": {
     "end_time": "2019-10-01T16:46:34.312390Z",
     "start_time": "2019-10-01T16:46:34.287770Z"
    },
    "hidden": true
   },
   "outputs": [
    {
     "data": {
      "text/plain": [
       "ImageList (70000 items)\n",
       "Image (1, 28, 28),Image (1, 28, 28),Image (1, 28, 28),Image (1, 28, 28),Image (1, 28, 28)\n",
       "Path: /home/jupyter/.fastai/data/mnist_png"
      ]
     },
     "execution_count": 13,
     "metadata": {},
     "output_type": "execute_result"
    }
   ],
   "source": [
    "il"
   ]
  },
  {
   "cell_type": "code",
   "execution_count": 25,
   "metadata": {
    "ExecuteTime": {
     "end_time": "2019-10-01T16:58:56.638808Z",
     "start_time": "2019-10-01T16:58:56.556403Z"
    },
    "hidden": true
   },
   "outputs": [
    {
     "data": {
      "image/png": "[encoded data removed]",
      "text/plain": [
       "<Figure size 216x216 with 1 Axes>"
      ]
     },
     "metadata": {
      "needs_background": "light"
     },
     "output_type": "display_data"
    }
   ],
   "source": [
    "il[0].show()"
   ]
  },
  {
   "cell_type": "code",
   "execution_count": 16,
   "metadata": {
    "ExecuteTime": {
     "end_time": "2019-10-01T16:48:43.239528Z",
     "start_time": "2019-10-01T16:48:43.075563Z"
    },
    "hidden": true
   },
   "outputs": [],
   "source": [
    "sd = il.split_by_folder(train='training', valid='testing')"
   ]
  },
  {
   "cell_type": "code",
   "execution_count": 17,
   "metadata": {
    "ExecuteTime": {
     "end_time": "2019-10-01T16:48:46.533851Z",
     "start_time": "2019-10-01T16:48:46.506635Z"
    },
    "hidden": true
   },
   "outputs": [
    {
     "data": {
      "text/plain": [
       "ItemLists;\n",
       "\n",
       "Train: ImageList (60000 items)\n",
       "Image (1, 28, 28),Image (1, 28, 28),Image (1, 28, 28),Image (1, 28, 28),Image (1, 28, 28)\n",
       "Path: /home/jupyter/.fastai/data/mnist_png;\n",
       "\n",
       "Valid: ImageList (10000 items)\n",
       "Image (1, 28, 28),Image (1, 28, 28),Image (1, 28, 28),Image (1, 28, 28),Image (1, 28, 28)\n",
       "Path: /home/jupyter/.fastai/data/mnist_png;\n",
       "\n",
       "Test: None"
      ]
     },
     "execution_count": 17,
     "metadata": {},
     "output_type": "execute_result"
    }
   ],
   "source": [
    "sd"
   ]
  },
  {
   "cell_type": "code",
   "execution_count": 20,
   "metadata": {
    "ExecuteTime": {
     "end_time": "2019-10-01T16:56:49.573128Z",
     "start_time": "2019-10-01T16:56:49.545891Z"
    },
    "hidden": true
   },
   "outputs": [
    {
     "data": {
      "text/plain": [
       "[PosixPath('/home/jupyter/.fastai/data/mnist_png/training/3'),\n",
       " PosixPath('/home/jupyter/.fastai/data/mnist_png/training/1'),\n",
       " PosixPath('/home/jupyter/.fastai/data/mnist_png/training/7'),\n",
       " PosixPath('/home/jupyter/.fastai/data/mnist_png/training/8'),\n",
       " PosixPath('/home/jupyter/.fastai/data/mnist_png/training/0'),\n",
       " PosixPath('/home/jupyter/.fastai/data/mnist_png/training/6'),\n",
       " PosixPath('/home/jupyter/.fastai/data/mnist_png/training/9'),\n",
       " PosixPath('/home/jupyter/.fastai/data/mnist_png/training/2'),\n",
       " PosixPath('/home/jupyter/.fastai/data/mnist_png/training/4'),\n",
       " PosixPath('/home/jupyter/.fastai/data/mnist_png/training/5')]"
      ]
     },
     "execution_count": 20,
     "metadata": {},
     "output_type": "execute_result"
    }
   ],
   "source": [
    "(path/'training').ls()"
   ]
  },
  {
   "cell_type": "code",
   "execution_count": 21,
   "metadata": {
    "ExecuteTime": {
     "end_time": "2019-10-01T16:57:17.142390Z",
     "start_time": "2019-10-01T16:57:17.052326Z"
    },
    "hidden": true
   },
   "outputs": [],
   "source": [
    "ll = sd.label_from_folder()"
   ]
  },
  {
   "cell_type": "code",
   "execution_count": 22,
   "metadata": {
    "ExecuteTime": {
     "end_time": "2019-10-01T16:57:18.981602Z",
     "start_time": "2019-10-01T16:57:18.953862Z"
    },
    "hidden": true
   },
   "outputs": [
    {
     "data": {
      "text/plain": [
       "LabelLists;\n",
       "\n",
       "Train: LabelList (60000 items)\n",
       "x: ImageList\n",
       "Image (1, 28, 28),Image (1, 28, 28),Image (1, 28, 28),Image (1, 28, 28),Image (1, 28, 28)\n",
       "y: CategoryList\n",
       "3,3,3,3,3\n",
       "Path: /home/jupyter/.fastai/data/mnist_png;\n",
       "\n",
       "Valid: LabelList (10000 items)\n",
       "x: ImageList\n",
       "Image (1, 28, 28),Image (1, 28, 28),Image (1, 28, 28),Image (1, 28, 28),Image (1, 28, 28)\n",
       "y: CategoryList\n",
       "3,3,3,3,3\n",
       "Path: /home/jupyter/.fastai/data/mnist_png;\n",
       "\n",
       "Test: None"
      ]
     },
     "execution_count": 22,
     "metadata": {},
     "output_type": "execute_result"
    }
   ],
   "source": [
    "ll"
   ]
  },
  {
   "cell_type": "code",
   "execution_count": 23,
   "metadata": {
    "ExecuteTime": {
     "end_time": "2019-10-01T16:58:23.507289Z",
     "start_time": "2019-10-01T16:58:23.481612Z"
    },
    "hidden": true
   },
   "outputs": [],
   "source": [
    "x,y = ll.train[0]"
   ]
  },
  {
   "cell_type": "code",
   "execution_count": 24,
   "metadata": {
    "ExecuteTime": {
     "end_time": "2019-10-01T16:58:46.864986Z",
     "start_time": "2019-10-01T16:58:46.770283Z"
    },
    "hidden": true
   },
   "outputs": [
    {
     "name": "stdout",
     "output_type": "stream",
     "text": [
      "3 torch.Size([1, 28, 28])\n"
     ]
    },
    {
     "data": {
      "image/png": "[encoded data removed]",
      "text/plain": [
       "<Figure size 216x216 with 1 Axes>"
      ]
     },
     "metadata": {
      "needs_background": "light"
     },
     "output_type": "display_data"
    }
   ],
   "source": [
    "x.show()\n",
    "print(y, x.shape)"
   ]
  },
  {
   "cell_type": "code",
   "execution_count": 30,
   "metadata": {
    "ExecuteTime": {
     "end_time": "2019-10-01T17:01:21.815753Z",
     "start_time": "2019-10-01T17:01:21.793049Z"
    },
    "hidden": true
   },
   "outputs": [],
   "source": [
    "tfms = ([*rand_pad(padding=3, size=28, mode='zeros')], [])"
   ]
  },
  {
   "cell_type": "code",
   "execution_count": 31,
   "metadata": {
    "ExecuteTime": {
     "end_time": "2019-10-01T17:01:40.460729Z",
     "start_time": "2019-10-01T17:01:40.265312Z"
    },
    "hidden": true
   },
   "outputs": [],
   "source": [
    "ll = ll.transform(tfms)"
   ]
  },
  {
   "cell_type": "code",
   "execution_count": 33,
   "metadata": {
    "ExecuteTime": {
     "end_time": "2019-10-01T17:02:03.689781Z",
     "start_time": "2019-10-01T17:02:03.667586Z"
    },
    "hidden": true
   },
   "outputs": [],
   "source": [
    "bs = 128"
   ]
  },
  {
   "cell_type": "code",
   "execution_count": 34,
   "metadata": {
    "ExecuteTime": {
     "end_time": "2019-10-01T17:03:56.535598Z",
     "start_time": "2019-10-01T17:03:36.472197Z"
    },
    "hidden": true
   },
   "outputs": [],
   "source": [
    "# We are not using imagenet_stats because we are not using pretrained model\n",
    "\n",
    "data = ll.databunch(bs=bs).normalize()"
   ]
  },
  {
   "cell_type": "code",
   "execution_count": 35,
   "metadata": {
    "ExecuteTime": {
     "end_time": "2019-10-01T17:03:56.690700Z",
     "start_time": "2019-10-01T17:03:56.657631Z"
    },
    "hidden": true
   },
   "outputs": [
    {
     "data": {
      "text/plain": [
       "ImageDataBunch;\n",
       "\n",
       "Train: LabelList (60000 items)\n",
       "x: ImageList\n",
       "Image (1, 28, 28),Image (1, 28, 28),Image (1, 28, 28),Image (1, 28, 28),Image (1, 28, 28)\n",
       "y: CategoryList\n",
       "3,3,3,3,3\n",
       "Path: /home/jupyter/.fastai/data/mnist_png;\n",
       "\n",
       "Valid: LabelList (10000 items)\n",
       "x: ImageList\n",
       "Image (1, 28, 28),Image (1, 28, 28),Image (1, 28, 28),Image (1, 28, 28),Image (1, 28, 28)\n",
       "y: CategoryList\n",
       "3,3,3,3,3\n",
       "Path: /home/jupyter/.fastai/data/mnist_png;\n",
       "\n",
       "Test: None"
      ]
     },
     "execution_count": 35,
     "metadata": {},
     "output_type": "execute_result"
    }
   ],
   "source": [
    "data"
   ]
  },
  {
   "cell_type": "code",
   "execution_count": 36,
   "metadata": {
    "ExecuteTime": {
     "end_time": "2019-10-01T17:05:13.250064Z",
     "start_time": "2019-10-01T17:05:13.226015Z"
    },
    "hidden": true
   },
   "outputs": [],
   "source": [
    "x,y = data.train_ds[0]"
   ]
  },
  {
   "cell_type": "code",
   "execution_count": 37,
   "metadata": {
    "ExecuteTime": {
     "end_time": "2019-10-01T17:05:28.153796Z",
     "start_time": "2019-10-01T17:05:28.064441Z"
    },
    "hidden": true
   },
   "outputs": [
    {
     "name": "stdout",
     "output_type": "stream",
     "text": [
      "Label: 3\n"
     ]
    },
    {
     "data": {
      "image/png": "[encoded data removed]",
      "text/plain": [
       "<Figure size 216x216 with 1 Axes>"
      ]
     },
     "metadata": {
      "needs_background": "light"
     },
     "output_type": "display_data"
    }
   ],
   "source": [
    "x.show()\n",
    "print('Label:', y)"
   ]
  },
  {
   "cell_type": "code",
   "execution_count": 38,
   "metadata": {
    "ExecuteTime": {
     "end_time": "2019-10-01T17:07:06.512067Z",
     "start_time": "2019-10-01T17:07:06.488193Z"
    },
    "hidden": true
   },
   "outputs": [],
   "source": [
    "def _plot(i, j, ax): data.train_ds[0][0].show(ax, cmap='gray')"
   ]
  },
  {
   "cell_type": "code",
   "execution_count": 43,
   "metadata": {
    "ExecuteTime": {
     "end_time": "2019-10-01T17:08:20.475286Z",
     "start_time": "2019-10-01T17:08:20.004985Z"
    },
    "hidden": true
   },
   "outputs": [
    {
     "data": {
      "image/png": "[encoded data removed]",
      "text/plain": [
       "<Figure size 576x576 with 9 Axes>"
      ]
     },
     "metadata": {
      "needs_background": "light"
     },
     "output_type": "display_data"
    }
   ],
   "source": [
    "plot_multi(_plot, 3, 3, figsize=(8,8))"
   ]
  },
  {
   "cell_type": "code",
   "execution_count": 45,
   "metadata": {
    "ExecuteTime": {
     "end_time": "2019-10-01T17:09:00.254571Z",
     "start_time": "2019-10-01T17:08:59.627893Z"
    },
    "hidden": true
   },
   "outputs": [
    {
     "data": {
      "text/plain": [
       "(torch.Size([128, 1, 28, 28]), torch.Size([128]))"
      ]
     },
     "execution_count": 45,
     "metadata": {},
     "output_type": "execute_result"
    }
   ],
   "source": [
    "xb, yb = data.one_batch()\n",
    "xb.shape, yb.shape"
   ]
  },
  {
   "cell_type": "code",
   "execution_count": 46,
   "metadata": {
    "ExecuteTime": {
     "end_time": "2019-10-01T17:10:37.879350Z",
     "start_time": "2019-10-01T17:10:36.896196Z"
    },
    "hidden": true
   },
   "outputs": [
    {
     "data": {
      "image/png": "[encoded data removed]",
      "text/plain": [
       "<Figure size 360x360 with 9 Axes>"
      ]
     },
     "metadata": {
      "needs_background": "light"
     },
     "output_type": "display_data"
    }
   ],
   "source": [
    "data.show_batch(rows=3, figsize=(5,5))"
   ]
  },
  {
   "cell_type": "markdown",
   "metadata": {},
   "source": [
    "## Basic CNN with batchnorm"
   ]
  },
  {
   "cell_type": "code",
   "execution_count": 47,
   "metadata": {
    "ExecuteTime": {
     "end_time": "2019-10-01T17:13:16.978428Z",
     "start_time": "2019-10-01T17:13:16.953159Z"
    }
   },
   "outputs": [],
   "source": [
    "def conv(ni, nf): return nn.Conv2d(ni, nf, kernel_size=3, stride=2, padding=1)"
   ]
  },
  {
   "cell_type": "code",
   "execution_count": 55,
   "metadata": {
    "ExecuteTime": {
     "end_time": "2019-10-01T17:22:47.398233Z",
     "start_time": "2019-10-01T17:22:47.372404Z"
    }
   },
   "outputs": [],
   "source": [
    "model = nn.Sequential(\n",
    "    conv(1,8),   #new_size = 14\n",
    "    nn.BatchNorm2d(8),\n",
    "    nn.ReLU(),\n",
    "    conv(8,16),  #new_size = 7\n",
    "    nn.BatchNorm2d(16),\n",
    "    nn.ReLU(),\n",
    "    conv(16,32), #new_size = 4\n",
    "    nn.BatchNorm2d(32),\n",
    "    nn.ReLU(),\n",
    "    conv(32,16), #new_size = 2\n",
    "    nn.BatchNorm2d(16),\n",
    "    nn.ReLU(),\n",
    "    conv(16,10), #new_size = 1\n",
    "    nn.BatchNorm2d(10),\n",
    "    Flatten()    #remove the (1,1) grid\n",
    "    )"
   ]
  },
  {
   "cell_type": "code",
   "execution_count": 56,
   "metadata": {
    "ExecuteTime": {
     "end_time": "2019-10-01T17:22:49.962381Z",
     "start_time": "2019-10-01T17:22:49.937782Z"
    }
   },
   "outputs": [],
   "source": [
    "learn = Learner(data, model, loss_func = nn.CrossEntropyLoss(), metrics = accuracy)"
   ]
  },
  {
   "cell_type": "code",
   "execution_count": 57,
   "metadata": {
    "ExecuteTime": {
     "end_time": "2019-10-01T17:22:51.097360Z",
     "start_time": "2019-10-01T17:22:50.599876Z"
    }
   },
   "outputs": [
    {
     "name": "stdout",
     "output_type": "stream",
     "text": [
      "Sequential\n",
      "======================================================================\n",
      "Layer (type)         Output Shape         Param #    Trainable \n",
      "======================================================================\n",
      "Conv2d               [8, 14, 14]          80         True      \n",
      "______________________________________________________________________\n",
      "BatchNorm2d          [8, 14, 14]          16         True      \n",
      "______________________________________________________________________\n",
      "ReLU                 [8, 14, 14]          0          False     \n",
      "______________________________________________________________________\n",
      "Conv2d               [16, 7, 7]           1,168      True      \n",
      "______________________________________________________________________\n",
      "BatchNorm2d          [16, 7, 7]           32         True      \n",
      "______________________________________________________________________\n",
      "ReLU                 [16, 7, 7]           0          False     \n",
      "______________________________________________________________________\n",
      "Conv2d               [32, 4, 4]           4,640      True      \n",
      "______________________________________________________________________\n",
      "BatchNorm2d          [32, 4, 4]           64         True      \n",
      "______________________________________________________________________\n",
      "ReLU                 [32, 4, 4]           0          False     \n",
      "______________________________________________________________________\n",
      "Conv2d               [16, 2, 2]           4,624      True      \n",
      "______________________________________________________________________\n",
      "BatchNorm2d          [16, 2, 2]           32         True      \n",
      "______________________________________________________________________\n",
      "ReLU                 [16, 2, 2]           0          False     \n",
      "______________________________________________________________________\n",
      "Conv2d               [10, 1, 1]           1,450      True      \n",
      "______________________________________________________________________\n",
      "BatchNorm2d          [10, 1, 1]           20         True      \n",
      "______________________________________________________________________\n",
      "Flatten              [10]                 0          False     \n",
      "______________________________________________________________________\n",
      "\n",
      "Total params: 12,126\n",
      "Total trainable params: 12,126\n",
      "Total non-trainable params: 0\n",
      "Optimized with 'torch.optim.adam.Adam', betas=(0.9, 0.99)\n",
      "Using true weight decay as discussed in https://www.fast.ai/2018/07/02/adam-weight-decay/ \n",
      "Loss function : CrossEntropyLoss\n",
      "======================================================================\n",
      "Callbacks functions applied \n",
      "\n"
     ]
    }
   ],
   "source": [
    "print(learn.summary())"
   ]
  },
  {
   "cell_type": "code",
   "execution_count": 58,
   "metadata": {
    "ExecuteTime": {
     "end_time": "2019-10-01T17:26:14.642284Z",
     "start_time": "2019-10-01T17:26:14.618132Z"
    }
   },
   "outputs": [],
   "source": [
    "xb = xb.cuda()"
   ]
  },
  {
   "cell_type": "code",
   "execution_count": 59,
   "metadata": {
    "ExecuteTime": {
     "end_time": "2019-10-01T17:26:29.813877Z",
     "start_time": "2019-10-01T17:26:29.785710Z"
    }
   },
   "outputs": [
    {
     "data": {
      "text/plain": [
       "torch.Size([128, 10])"
      ]
     },
     "execution_count": 59,
     "metadata": {},
     "output_type": "execute_result"
    }
   ],
   "source": [
    "model(xb).shape"
   ]
  },
  {
   "cell_type": "code",
   "execution_count": 61,
   "metadata": {
    "ExecuteTime": {
     "end_time": "2019-10-01T17:27:14.953486Z",
     "start_time": "2019-10-01T17:27:08.661680Z"
    }
   },
   "outputs": [
    {
     "data": {
      "text/html": [],
      "text/plain": [
       "<IPython.core.display.HTML object>"
      ]
     },
     "metadata": {},
     "output_type": "display_data"
    },
    {
     "name": "stdout",
     "output_type": "stream",
     "text": [
      "LR Finder is complete, type {learner_name}.recorder.plot() to see the graph.\n"
     ]
    }
   ],
   "source": [
    "learn.lr_find(end_lr=100)"
   ]
  },
  {
   "cell_type": "code",
   "execution_count": 62,
   "metadata": {
    "ExecuteTime": {
     "end_time": "2019-10-01T17:27:30.600134Z",
     "start_time": "2019-10-01T17:27:30.074631Z"
    }
   },
   "outputs": [
    {
     "data": {
      "image/png": "[encoded data removed]",
      "text/plain": [
       "<Figure size 432x288 with 1 Axes>"
      ]
     },
     "metadata": {
      "needs_background": "light"
     },
     "output_type": "display_data"
    }
   ],
   "source": [
    "learn.recorder.plot()"
   ]
  },
  {
   "cell_type": "code",
   "execution_count": 63,
   "metadata": {
    "ExecuteTime": {
     "end_time": "2019-10-01T17:29:37.201900Z",
     "start_time": "2019-10-01T17:28:16.618183Z"
    }
   },
   "outputs": [
    {
     "data": {
      "text/html": [
       "<table border=\"1\" class=\"dataframe\">\n",
       "  <thead>\n",
       "    <tr style=\"text-align: left;\">\n",
       "      <th>epoch</th>\n",
       "      <th>train_loss</th>\n",
       "      <th>valid_loss</th>\n",
       "      <th>accuracy</th>\n",
       "      <th>time</th>\n",
       "    </tr>\n",
       "  </thead>\n",
       "  <tbody>\n",
       "    <tr>\n",
       "      <td>0</td>\n",
       "      <td>0.226170</td>\n",
       "      <td>0.652664</td>\n",
       "      <td>0.795000</td>\n",
       "      <td>00:26</td>\n",
       "    </tr>\n",
       "    <tr>\n",
       "      <td>1</td>\n",
       "      <td>0.139587</td>\n",
       "      <td>0.067542</td>\n",
       "      <td>0.977800</td>\n",
       "      <td>00:26</td>\n",
       "    </tr>\n",
       "    <tr>\n",
       "      <td>2</td>\n",
       "      <td>0.076451</td>\n",
       "      <td>0.042145</td>\n",
       "      <td>0.985900</td>\n",
       "      <td>00:26</td>\n",
       "    </tr>\n",
       "  </tbody>\n",
       "</table>"
      ],
      "text/plain": [
       "<IPython.core.display.HTML object>"
      ]
     },
     "metadata": {},
     "output_type": "display_data"
    }
   ],
   "source": [
    "learn.fit_one_cycle(3, max_lr=0.1)"
   ]
  },
  {
   "cell_type": "markdown",
   "metadata": {},
   "source": [
    "## Refactor"
   ]
  },
  {
   "cell_type": "code",
   "execution_count": 64,
   "metadata": {
    "ExecuteTime": {
     "end_time": "2019-10-01T17:29:38.334206Z",
     "start_time": "2019-10-01T17:29:38.310952Z"
    }
   },
   "outputs": [],
   "source": [
    "def conv2(ni, nf): return conv_layer(ni, nf, stride=2) # conv_layer include Batchnorm and ReLu"
   ]
  },
  {
   "cell_type": "code",
   "execution_count": 65,
   "metadata": {
    "ExecuteTime": {
     "end_time": "2019-10-01T17:32:19.695229Z",
     "start_time": "2019-10-01T17:32:19.622086Z"
    }
   },
   "outputs": [],
   "source": [
    "model = nn.Sequential(\n",
    "    conv2(1,8), #14\n",
    "    conv2(8,16), #7\n",
    "    conv2(16,32),#4\n",
    "    conv2(32,16),#2\n",
    "    conv2(16,10),#1\n",
    "    Flatten()    #remove (1,1) grid\n",
    "    )"
   ]
  },
  {
   "cell_type": "code",
   "execution_count": 66,
   "metadata": {
    "ExecuteTime": {
     "end_time": "2019-10-01T17:33:14.637448Z",
     "start_time": "2019-10-01T17:33:14.613129Z"
    }
   },
   "outputs": [],
   "source": [
    "learn = Learner(data, model, loss_func = nn.CrossEntropyLoss(), metrics= accuracy)"
   ]
  },
  {
   "cell_type": "code",
   "execution_count": 67,
   "metadata": {
    "ExecuteTime": {
     "end_time": "2019-10-01T17:36:06.714042Z",
     "start_time": "2019-10-01T17:33:52.819552Z"
    }
   },
   "outputs": [
    {
     "data": {
      "text/html": [
       "<table border=\"1\" class=\"dataframe\">\n",
       "  <thead>\n",
       "    <tr style=\"text-align: left;\">\n",
       "      <th>epoch</th>\n",
       "      <th>train_loss</th>\n",
       "      <th>valid_loss</th>\n",
       "      <th>accuracy</th>\n",
       "      <th>time</th>\n",
       "    </tr>\n",
       "  </thead>\n",
       "  <tbody>\n",
       "    <tr>\n",
       "      <td>0</td>\n",
       "      <td>0.257115</td>\n",
       "      <td>0.144454</td>\n",
       "      <td>0.956700</td>\n",
       "      <td>00:26</td>\n",
       "    </tr>\n",
       "    <tr>\n",
       "      <td>1</td>\n",
       "      <td>0.166059</td>\n",
       "      <td>0.135771</td>\n",
       "      <td>0.958600</td>\n",
       "      <td>00:26</td>\n",
       "    </tr>\n",
       "    <tr>\n",
       "      <td>2</td>\n",
       "      <td>0.129679</td>\n",
       "      <td>0.120504</td>\n",
       "      <td>0.963900</td>\n",
       "      <td>00:26</td>\n",
       "    </tr>\n",
       "    <tr>\n",
       "      <td>3</td>\n",
       "      <td>0.085369</td>\n",
       "      <td>0.057207</td>\n",
       "      <td>0.981400</td>\n",
       "      <td>00:27</td>\n",
       "    </tr>\n",
       "    <tr>\n",
       "      <td>4</td>\n",
       "      <td>0.067370</td>\n",
       "      <td>0.035091</td>\n",
       "      <td>0.988600</td>\n",
       "      <td>00:26</td>\n",
       "    </tr>\n",
       "  </tbody>\n",
       "</table>"
      ],
      "text/plain": [
       "<IPython.core.display.HTML object>"
      ]
     },
     "metadata": {},
     "output_type": "display_data"
    }
   ],
   "source": [
    "learn.fit_one_cycle(5, max_lr=0.1)"
   ]
  },
  {
   "cell_type": "markdown",
   "metadata": {},
   "source": [
    "## Restnet-style"
   ]
  },
  {
   "cell_type": "code",
   "execution_count": 68,
   "metadata": {
    "ExecuteTime": {
     "end_time": "2019-10-01T17:37:22.196478Z",
     "start_time": "2019-10-01T17:37:22.170298Z"
    }
   },
   "outputs": [],
   "source": [
    "class ResBlock(nn.Module):\n",
    "    def __init__(self, nf):\n",
    "        super().__init__()\n",
    "        self.conv1 = conv_layer(nf,nf) # Stride 1 conv\n",
    "        self.conv2 = conv_layer(nf,nf)\n",
    "    def forward(self,x):\n",
    "        return x + self.conv2(self.conv1(x))"
   ]
  },
  {
   "cell_type": "code",
   "execution_count": 71,
   "metadata": {
    "ExecuteTime": {
     "end_time": "2019-10-01T17:39:48.066276Z",
     "start_time": "2019-10-01T17:39:48.040907Z"
    }
   },
   "outputs": [
    {
     "name": "stdout",
     "output_type": "stream",
     "text": [
      "Help on function res_block in module fastai.layers:\n",
      "\n",
      "res_block(nf, dense: bool = False, norm_type: Union[fastai.layers.NormType, NoneType] = <NormType.Batch: 1>, bottle: bool = False, **conv_kwargs)\n",
      "    Resnet block of `nf` features. `conv_kwargs` are passed to `conv_layer`.\n",
      "\n"
     ]
    }
   ],
   "source": [
    "help(res_block)"
   ]
  },
  {
   "cell_type": "code",
   "execution_count": 72,
   "metadata": {
    "ExecuteTime": {
     "end_time": "2019-10-01T17:41:27.815896Z",
     "start_time": "2019-10-01T17:41:27.783798Z"
    }
   },
   "outputs": [],
   "source": [
    "model = nn.Sequential(\n",
    "    conv2(1,8), #14\n",
    "    res_block(8),\n",
    "    conv2(8,16), #7\n",
    "    res_block(16),\n",
    "    conv2(16,32),#4\n",
    "    res_block(32),\n",
    "    conv2(32,16),#2\n",
    "    res_block(16),\n",
    "    conv2(16,10),#1\n",
    "    Flatten()    #remove (1,1) grid\n",
    "    )"
   ]
  },
  {
   "cell_type": "code",
   "execution_count": 73,
   "metadata": {
    "ExecuteTime": {
     "end_time": "2019-10-01T17:43:29.007396Z",
     "start_time": "2019-10-01T17:43:28.983338Z"
    }
   },
   "outputs": [],
   "source": [
    "def conv_and_res(ni,nf): return nn.Sequential(conv2(ni,nf), res_block(nf))"
   ]
  },
  {
   "cell_type": "code",
   "execution_count": 74,
   "metadata": {
    "ExecuteTime": {
     "end_time": "2019-10-01T17:45:22.150323Z",
     "start_time": "2019-10-01T17:45:22.117434Z"
    }
   },
   "outputs": [],
   "source": [
    "model = nn.Sequential(\n",
    "    conv_and_res(1,8),   #14\n",
    "    conv_and_res(8,16),  #7\n",
    "    conv_and_res(16,32), #4\n",
    "    conv_and_res(32,16), #2\n",
    "    conv2(16,10),        #1\n",
    "    Flatten()\n",
    "    \n",
    "    )"
   ]
  },
  {
   "cell_type": "code",
   "execution_count": 76,
   "metadata": {
    "ExecuteTime": {
     "end_time": "2019-10-01T17:46:08.598375Z",
     "start_time": "2019-10-01T17:46:08.572278Z"
    }
   },
   "outputs": [],
   "source": [
    "learn = Learner(data, model, loss_func= nn.CrossEntropyLoss(), metrics=accuracy)"
   ]
  },
  {
   "cell_type": "code",
   "execution_count": 77,
   "metadata": {
    "ExecuteTime": {
     "end_time": "2019-10-01T17:46:44.584813Z",
     "start_time": "2019-10-01T17:46:37.365859Z"
    }
   },
   "outputs": [
    {
     "data": {
      "text/html": [],
      "text/plain": [
       "<IPython.core.display.HTML object>"
      ]
     },
     "metadata": {},
     "output_type": "display_data"
    },
    {
     "name": "stdout",
     "output_type": "stream",
     "text": [
      "LR Finder is complete, type {learner_name}.recorder.plot() to see the graph.\n"
     ]
    },
    {
     "data": {
      "image/png": "[encoded data removed]",
      "text/plain": [
       "<Figure size 432x288 with 1 Axes>"
      ]
     },
     "metadata": {
      "needs_background": "light"
     },
     "output_type": "display_data"
    }
   ],
   "source": [
    "learn.lr_find(end_lr=100)\n",
    "learn.recorder.plot()"
   ]
  },
  {
   "cell_type": "code",
   "execution_count": 78,
   "metadata": {
    "ExecuteTime": {
     "end_time": "2019-10-01T17:49:46.451739Z",
     "start_time": "2019-10-01T17:47:20.733897Z"
    }
   },
   "outputs": [
    {
     "data": {
      "text/html": [
       "<table border=\"1\" class=\"dataframe\">\n",
       "  <thead>\n",
       "    <tr style=\"text-align: left;\">\n",
       "      <th>epoch</th>\n",
       "      <th>train_loss</th>\n",
       "      <th>valid_loss</th>\n",
       "      <th>accuracy</th>\n",
       "      <th>time</th>\n",
       "    </tr>\n",
       "  </thead>\n",
       "  <tbody>\n",
       "    <tr>\n",
       "      <td>0</td>\n",
       "      <td>0.190879</td>\n",
       "      <td>0.264707</td>\n",
       "      <td>0.915000</td>\n",
       "      <td>00:30</td>\n",
       "    </tr>\n",
       "    <tr>\n",
       "      <td>1</td>\n",
       "      <td>0.107652</td>\n",
       "      <td>0.106279</td>\n",
       "      <td>0.967100</td>\n",
       "      <td>00:28</td>\n",
       "    </tr>\n",
       "    <tr>\n",
       "      <td>2</td>\n",
       "      <td>0.075449</td>\n",
       "      <td>0.086745</td>\n",
       "      <td>0.972600</td>\n",
       "      <td>00:28</td>\n",
       "    </tr>\n",
       "    <tr>\n",
       "      <td>3</td>\n",
       "      <td>0.046582</td>\n",
       "      <td>0.027418</td>\n",
       "      <td>0.992200</td>\n",
       "      <td>00:28</td>\n",
       "    </tr>\n",
       "    <tr>\n",
       "      <td>4</td>\n",
       "      <td>0.025899</td>\n",
       "      <td>0.018260</td>\n",
       "      <td>0.994300</td>\n",
       "      <td>00:29</td>\n",
       "    </tr>\n",
       "  </tbody>\n",
       "</table>"
      ],
      "text/plain": [
       "<IPython.core.display.HTML object>"
      ]
     },
     "metadata": {},
     "output_type": "display_data"
    }
   ],
   "source": [
    "learn.fit_one_cycle(5, max_lr=.05)"
   ]
  },
  {
   "cell_type": "code",
   "execution_count": 79,
   "metadata": {
    "ExecuteTime": {
     "end_time": "2019-10-01T17:50:18.036924Z",
     "start_time": "2019-10-01T17:50:17.510457Z"
    }
   },
   "outputs": [
    {
     "name": "stdout",
     "output_type": "stream",
     "text": [
      "Sequential\n",
      "======================================================================\n",
      "Layer (type)         Output Shape         Param #    Trainable \n",
      "======================================================================\n",
      "Conv2d               [8, 14, 14]          72         True      \n",
      "______________________________________________________________________\n",
      "ReLU                 [8, 14, 14]          0          False     \n",
      "______________________________________________________________________\n",
      "BatchNorm2d          [8, 14, 14]          16         True      \n",
      "______________________________________________________________________\n",
      "Conv2d               [8, 14, 14]          576        True      \n",
      "______________________________________________________________________\n",
      "ReLU                 [8, 14, 14]          0          False     \n",
      "______________________________________________________________________\n",
      "BatchNorm2d          [8, 14, 14]          16         True      \n",
      "______________________________________________________________________\n",
      "Conv2d               [8, 14, 14]          576        True      \n",
      "______________________________________________________________________\n",
      "ReLU                 [8, 14, 14]          0          False     \n",
      "______________________________________________________________________\n",
      "BatchNorm2d          [8, 14, 14]          16         True      \n",
      "______________________________________________________________________\n",
      "MergeLayer           [8, 14, 14]          0          False     \n",
      "______________________________________________________________________\n",
      "Conv2d               [16, 7, 7]           1,152      True      \n",
      "______________________________________________________________________\n",
      "ReLU                 [16, 7, 7]           0          False     \n",
      "______________________________________________________________________\n",
      "BatchNorm2d          [16, 7, 7]           32         True      \n",
      "______________________________________________________________________\n",
      "Conv2d               [16, 7, 7]           2,304      True      \n",
      "______________________________________________________________________\n",
      "ReLU                 [16, 7, 7]           0          False     \n",
      "______________________________________________________________________\n",
      "BatchNorm2d          [16, 7, 7]           32         True      \n",
      "______________________________________________________________________\n",
      "Conv2d               [16, 7, 7]           2,304      True      \n",
      "______________________________________________________________________\n",
      "ReLU                 [16, 7, 7]           0          False     \n",
      "______________________________________________________________________\n",
      "BatchNorm2d          [16, 7, 7]           32         True      \n",
      "______________________________________________________________________\n",
      "MergeLayer           [16, 7, 7]           0          False     \n",
      "______________________________________________________________________\n",
      "Conv2d               [32, 4, 4]           4,608      True      \n",
      "______________________________________________________________________\n",
      "ReLU                 [32, 4, 4]           0          False     \n",
      "______________________________________________________________________\n",
      "BatchNorm2d          [32, 4, 4]           64         True      \n",
      "______________________________________________________________________\n",
      "Conv2d               [32, 4, 4]           9,216      True      \n",
      "______________________________________________________________________\n",
      "ReLU                 [32, 4, 4]           0          False     \n",
      "______________________________________________________________________\n",
      "BatchNorm2d          [32, 4, 4]           64         True      \n",
      "______________________________________________________________________\n",
      "Conv2d               [32, 4, 4]           9,216      True      \n",
      "______________________________________________________________________\n",
      "ReLU                 [32, 4, 4]           0          False     \n",
      "______________________________________________________________________\n",
      "BatchNorm2d          [32, 4, 4]           64         True      \n",
      "______________________________________________________________________\n",
      "MergeLayer           [32, 4, 4]           0          False     \n",
      "______________________________________________________________________\n",
      "Conv2d               [16, 2, 2]           4,608      True      \n",
      "______________________________________________________________________\n",
      "ReLU                 [16, 2, 2]           0          False     \n",
      "______________________________________________________________________\n",
      "BatchNorm2d          [16, 2, 2]           32         True      \n",
      "______________________________________________________________________\n",
      "Conv2d               [16, 2, 2]           2,304      True      \n",
      "______________________________________________________________________\n",
      "ReLU                 [16, 2, 2]           0          False     \n",
      "______________________________________________________________________\n",
      "BatchNorm2d          [16, 2, 2]           32         True      \n",
      "______________________________________________________________________\n",
      "Conv2d               [16, 2, 2]           2,304      True      \n",
      "______________________________________________________________________\n",
      "ReLU                 [16, 2, 2]           0          False     \n",
      "______________________________________________________________________\n",
      "BatchNorm2d          [16, 2, 2]           32         True      \n",
      "______________________________________________________________________\n",
      "MergeLayer           [16, 2, 2]           0          False     \n",
      "______________________________________________________________________\n",
      "Conv2d               [10, 1, 1]           1,440      True      \n",
      "______________________________________________________________________\n",
      "ReLU                 [10, 1, 1]           0          False     \n",
      "______________________________________________________________________\n",
      "BatchNorm2d          [10, 1, 1]           20         True      \n",
      "______________________________________________________________________\n",
      "Flatten              [10]                 0          False     \n",
      "______________________________________________________________________\n",
      "\n",
      "Total params: 41,132\n",
      "Total trainable params: 41,132\n",
      "Total non-trainable params: 0\n",
      "Optimized with 'torch.optim.adam.Adam', betas=(0.9, 0.99)\n",
      "Using true weight decay as discussed in https://www.fast.ai/2018/07/02/adam-weight-decay/ \n",
      "Loss function : CrossEntropyLoss\n",
      "======================================================================\n",
      "Callbacks functions applied \n",
      "\n"
     ]
    }
   ],
   "source": [
    "print(learn.summary())"
   ]
  },
  {
   "cell_type": "code",
   "execution_count": null,
   "metadata": {},
   "outputs": [],
   "source": []
  }
 ],
 "metadata": {
  "kernelspec": {
   "display_name": "Python 3",
   "language": "python",
   "name": "python3"
  },
  "language_info": {
   "codemirror_mode": {
    "name": "ipython",
    "version": 3
   },
   "file_extension": ".py",
   "mimetype": "text/x-python",
   "name": "python",
   "nbconvert_exporter": "python",
   "pygments_lexer": "ipython3",
   "version": "3.6.7"
  },
  "toc": {
   "base_numbering": 1,
   "nav_menu": {},
   "number_sections": true,
   "sideBar": true,
   "skip_h1_title": false,
   "title_cell": "Table of Contents",
   "title_sidebar": "Contents",
   "toc_cell": false,
   "toc_position": {},
   "toc_section_display": true,
   "toc_window_display": false
  },
  "varInspector": {
   "cols": {
    "lenName": 16,
    "lenType": 16,
    "lenVar": 40
   },
   "kernels_config": {
    "python": {
     "delete_cmd_postfix": "",
     "delete_cmd_prefix": "del ",
     "library": "var_list.py",
     "varRefreshCmd": "print(var_dic_list())"
    },
    "r": {
     "delete_cmd_postfix": ") ",
     "delete_cmd_prefix": "rm(",
     "library": "var_list.r",
     "varRefreshCmd": "cat(var_dic_list()) "
    }
   },
   "types_to_exclude": [
    "module",
    "function",
    "builtin_function_or_method",
    "instance",
    "_Feature"
   ],
   "window_display": false
  }
 },
 "nbformat": 4,
 "nbformat_minor": 2
}
